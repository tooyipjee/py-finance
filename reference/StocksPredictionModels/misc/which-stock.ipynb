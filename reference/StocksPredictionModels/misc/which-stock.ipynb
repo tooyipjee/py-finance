{
 "cells": [
  {
   "cell_type": "code",
   "execution_count": 1,
   "metadata": {},
   "outputs": [],
   "source": [
    "import numpy as np\n",
    "import pandas as pd\n",
    "import matplotlib.pyplot as plt\n",
    "import seaborn as sns\n",
    "sns.set()"
   ]
  },
  {
   "cell_type": "code",
   "execution_count": 2,
   "metadata": {},
   "outputs": [
    {
     "data": {
      "text/plain": [
       "['../dataset/AMD.csv',\n",
       " '../dataset/FB.csv',\n",
       " '../dataset/FSV.csv',\n",
       " '../dataset/INFY.csv',\n",
       " '../dataset/KNX.csv',\n",
       " '../dataset/MONDY.csv',\n",
       " '../dataset/MTDR.csv',\n",
       " '../dataset/SINA.csv',\n",
       " '../dataset/TMUS.csv',\n",
       " '../dataset/TSLA.csv',\n",
       " '../dataset/TWTR.csv']"
      ]
     },
     "execution_count": 2,
     "metadata": {},
     "output_type": "execute_result"
    }
   ],
   "source": [
    "directory = '../dataset/'\n",
    "ori_name = ['AMD.csv', 'FB.csv', 'FSV.csv', 'INFY.csv', 'KNX.csv',\n",
    "          'MONDY.csv', 'MTDR.csv', 'SINA.csv', 'TMUS.csv', 'TSLA.csv', 'TWTR.csv']\n",
    "stocks = [directory + s for s in ori_name]\n",
    "stocks"
   ]
  },
  {
   "cell_type": "code",
   "execution_count": 3,
   "metadata": {},
   "outputs": [],
   "source": [
    "dfs = [pd.read_csv(s)[['Date', 'Close']] for s in stocks]"
   ]
  },
  {
   "cell_type": "code",
   "execution_count": 4,
   "metadata": {},
   "outputs": [
    {
     "data": {
      "text/html": [
       "<div>\n",
       "<style scoped>\n",
       "    .dataframe tbody tr th:only-of-type {\n",
       "        vertical-align: middle;\n",
       "    }\n",
       "\n",
       "    .dataframe tbody tr th {\n",
       "        vertical-align: top;\n",
       "    }\n",
       "\n",
       "    .dataframe thead th {\n",
       "        text-align: right;\n",
       "    }\n",
       "</style>\n",
       "<table border=\"1\" class=\"dataframe\">\n",
       "  <thead>\n",
       "    <tr style=\"text-align: right;\">\n",
       "      <th></th>\n",
       "      <th>Close_x</th>\n",
       "      <th>Close_y</th>\n",
       "      <th>Close_x</th>\n",
       "      <th>Close_y</th>\n",
       "      <th>Close_x</th>\n",
       "      <th>Close_y</th>\n",
       "      <th>Close_x</th>\n",
       "      <th>Close_y</th>\n",
       "      <th>Close_x</th>\n",
       "      <th>Close_y</th>\n",
       "      <th>Close</th>\n",
       "    </tr>\n",
       "  </thead>\n",
       "  <tbody>\n",
       "    <tr>\n",
       "      <th>0</th>\n",
       "      <td>16.270000</td>\n",
       "      <td>207.320007</td>\n",
       "      <td>78.820000</td>\n",
       "      <td>9.710</td>\n",
       "      <td>37.910000</td>\n",
       "      <td>56.889999</td>\n",
       "      <td>31.809999</td>\n",
       "      <td>84.070000</td>\n",
       "      <td>61.680000</td>\n",
       "      <td>318.869995</td>\n",
       "      <td>44.490002</td>\n",
       "    </tr>\n",
       "    <tr>\n",
       "      <th>1</th>\n",
       "      <td>16.580000</td>\n",
       "      <td>207.229996</td>\n",
       "      <td>78.250000</td>\n",
       "      <td>9.800</td>\n",
       "      <td>36.360001</td>\n",
       "      <td>56.639999</td>\n",
       "      <td>31.670000</td>\n",
       "      <td>83.949997</td>\n",
       "      <td>61.630001</td>\n",
       "      <td>310.100006</td>\n",
       "      <td>44.259998</td>\n",
       "    </tr>\n",
       "    <tr>\n",
       "      <th>2</th>\n",
       "      <td>16.870001</td>\n",
       "      <td>209.990005</td>\n",
       "      <td>77.940002</td>\n",
       "      <td>9.950</td>\n",
       "      <td>36.279999</td>\n",
       "      <td>57.730000</td>\n",
       "      <td>32.020000</td>\n",
       "      <td>84.870003</td>\n",
       "      <td>61.209999</td>\n",
       "      <td>322.690002</td>\n",
       "      <td>44.709999</td>\n",
       "    </tr>\n",
       "    <tr>\n",
       "      <th>3</th>\n",
       "      <td>16.850000</td>\n",
       "      <td>209.360001</td>\n",
       "      <td>77.940002</td>\n",
       "      <td>9.840</td>\n",
       "      <td>37.500000</td>\n",
       "      <td>57.810001</td>\n",
       "      <td>31.740000</td>\n",
       "      <td>83.989998</td>\n",
       "      <td>60.520000</td>\n",
       "      <td>323.850006</td>\n",
       "      <td>43.340000</td>\n",
       "    </tr>\n",
       "    <tr>\n",
       "      <th>4</th>\n",
       "      <td>16.709999</td>\n",
       "      <td>208.089996</td>\n",
       "      <td>78.055000</td>\n",
       "      <td>9.855</td>\n",
       "      <td>37.990002</td>\n",
       "      <td>52.380001</td>\n",
       "      <td>32.330002</td>\n",
       "      <td>82.940002</td>\n",
       "      <td>59.410000</td>\n",
       "      <td>320.230011</td>\n",
       "      <td>43.439999</td>\n",
       "    </tr>\n",
       "  </tbody>\n",
       "</table>\n",
       "</div>"
      ],
      "text/plain": [
       "     Close_x     Close_y    Close_x  Close_y    Close_x    Close_y    Close_x  \\\n",
       "0  16.270000  207.320007  78.820000    9.710  37.910000  56.889999  31.809999   \n",
       "1  16.580000  207.229996  78.250000    9.800  36.360001  56.639999  31.670000   \n",
       "2  16.870001  209.990005  77.940002    9.950  36.279999  57.730000  32.020000   \n",
       "3  16.850000  209.360001  77.940002    9.840  37.500000  57.810001  31.740000   \n",
       "4  16.709999  208.089996  78.055000    9.855  37.990002  52.380001  32.330002   \n",
       "\n",
       "     Close_y    Close_x     Close_y      Close  \n",
       "0  84.070000  61.680000  318.869995  44.490002  \n",
       "1  83.949997  61.630001  310.100006  44.259998  \n",
       "2  84.870003  61.209999  322.690002  44.709999  \n",
       "3  83.989998  60.520000  323.850006  43.340000  \n",
       "4  82.940002  59.410000  320.230011  43.439999  "
      ]
     },
     "execution_count": 4,
     "metadata": {},
     "output_type": "execute_result"
    }
   ],
   "source": [
    "from functools import reduce\n",
    "data = reduce(lambda left,right: pd.merge(left,right,on='Date'), dfs).iloc[:, 1:]\n",
    "data.head()"
   ]
  },
  {
   "cell_type": "code",
   "execution_count": 5,
   "metadata": {},
   "outputs": [],
   "source": [
    "returns = data.pct_change()\n",
    "mean_daily_returns = returns.mean()\n",
    "volatilities = returns.std()"
   ]
  },
  {
   "cell_type": "code",
   "execution_count": 6,
   "metadata": {},
   "outputs": [
    {
     "data": {
      "text/plain": [
       "Close_x    0.995185\n",
       "Close_y   -0.247949\n",
       "Close_x    0.119677\n",
       "Close_y    0.190845\n",
       "Close_x   -0.175416\n",
       "Close_y   -0.170502\n",
       "Close_x   -0.626256\n",
       "Close_y   -0.450914\n",
       "Close_x    0.252493\n",
       "Close_y   -0.069273\n",
       "Close     -0.273753\n",
       "dtype: float64"
      ]
     },
     "execution_count": 6,
     "metadata": {},
     "output_type": "execute_result"
    }
   ],
   "source": [
    "mean_daily_returns * 252"
   ]
  },
  {
   "cell_type": "code",
   "execution_count": 7,
   "metadata": {},
   "outputs": [
    {
     "data": {
      "text/plain": [
       "Close_x    12.196632\n",
       "Close_y     6.637175\n",
       "Close_x     3.677834\n",
       "Close_y     3.572859\n",
       "Close_x     7.104904\n",
       "Close_y     7.909165\n",
       "Close_x     8.121732\n",
       "Close_y     6.948244\n",
       "Close_x     3.863498\n",
       "Close_y    10.213733\n",
       "Close       8.873234\n",
       "dtype: float64"
      ]
     },
     "execution_count": 7,
     "metadata": {},
     "output_type": "execute_result"
    }
   ],
   "source": [
    "volatilities * 252"
   ]
  },
  {
   "cell_type": "code",
   "execution_count": 8,
   "metadata": {},
   "outputs": [],
   "source": [
    "combine = pd.DataFrame({'returns': mean_daily_returns * 252,\n",
    "                       'volatility': volatilities * 252})"
   ]
  },
  {
   "cell_type": "code",
   "execution_count": 9,
   "metadata": {},
   "outputs": [
    {
     "name": "stderr",
     "output_type": "stream",
     "text": [
      "C:\\Users\\Jason\\anaconda3\\envs\\py-finance\\lib\\site-packages\\seaborn\\_decorators.py:36: FutureWarning: Pass the following variables as keyword args: x, y. From version 0.12, the only valid positional argument will be `data`, and passing other arguments without an explicit keyword will result in an error or misinterpretation.\n",
      "  warnings.warn(\n"
     ]
    },
    {
     "data": {
      "image/png": "[encoded data removed]",
      "text/plain": [
       "<Figure size 504x504 with 3 Axes>"
      ]
     },
     "metadata": {},
     "output_type": "display_data"
    }
   ],
   "source": [
    "g = sns.jointplot(\"volatility\", \"returns\", data=combine, kind=\"reg\",height=7)\n",
    "\n",
    "for i in range(combine.shape[0]):\n",
    "    plt.annotate(ori_name[i].replace('.csv',''), (combine.iloc[i, 1], combine.iloc[i, 0]))\n",
    "    \n",
    "plt.text(0, -1.5, 'SELL', fontsize=25)\n",
    "plt.text(0, 1.0, 'BUY', fontsize=25)\n",
    "    \n",
    "plt.show()"
   ]
  },
  {
   "cell_type": "code",
   "execution_count": null,
   "metadata": {},
   "outputs": [],
   "source": []
  }
 ],
 "metadata": {
  "kernelspec": {
   "display_name": "Python 3",
   "language": "python",
   "name": "python3"
  },
  "language_info": {
   "codemirror_mode": {
    "name": "ipython",
    "version": 3
   },
   "file_extension": ".py",
   "mimetype": "text/x-python",
   "name": "python",
   "nbconvert_exporter": "python",
   "pygments_lexer": "ipython3",
   "version": "3.8.5"
  }
 },
 "nbformat": 4,
 "nbformat_minor": 2
}
